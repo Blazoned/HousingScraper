{
 "cells": [
  {
   "cell_type": "markdown",
   "id": "cd585afd-5ab3-4356-90dd-79a0e92bae97",
   "metadata": {
    "tags": [],
    "user_expressions": []
   },
   "source": [
    "# [Introduction](https://www.ml4devs.com/articles/mlops-machine-learning-life-cycle/)\n",
    "---"
   ]
  },
  {
   "cell_type": "markdown",
   "id": "e88c1fec-ddf3-4606-8510-dd74c7f59424",
   "metadata": {
    "tags": []
   },
   "source": [
    "## Background\n",
    "\n",
    "The Dutch housing market has been very saturated. People by property to rent to others, and people who wish to buy can't seem to find a home to purchase for their own. Others even more so, desire the freedom to more easily move between places. Whatever the reason you want _or_ have to get rental housing: An even playing field on the housing market would do well for everyone.\n",
    "\n",
    "Roald ([@Bureauhalt](https://github.com/Roald1519166)) has made a [scrapper](https://github.com/Roald1519166/Scraper) to collect data about the rental housing market. The goal is to get more insights into the activity on the housing market, as to facilitate better decision making when attempting to find a place to live.\n",
    "\n",
    "My ([@Blazoned](https://github.com/Blazoned)) personal stakes in this project are to find out what kind of insights can be acquired from the data collected. I will be working on creating a model to predict how long rental houses will be available on the market. I expect geocoding the address data might make for a better feature to determine availability duration. Using a time series based model might also prove beneficial given the housing market might express a certain seasonality within its given features.\n",
    "I'm personally also interested to look at the potential of time series analysis to extract data potential from the given data set, and to have an interactive map at my disposal to explore the insights of this data in a more intuitive manner."
   ]
  },
  {
   "cell_type": "markdown",
   "id": "b705b2f8-8fdf-40e2-8626-b1e19a3430e6",
   "metadata": {
    "tags": [],
    "user_expressions": []
   },
   "source": [
    "## Goal\n",
    "\n",
    "### Statement\n",
    "The goal of this particular notebook, is to determine availability of rental houses on the market.\n",
    "\n",
    "### Methods\n",
    "To do this, first data is collected from the source. Each time this notebook is run, the most recent data will be acquired. Additional data may be added to the core data set, as long as any extension to the data is based on information already present in the original source data. This data is curated to determine the data quality and to examine, if any, what steps are needed to improve data quality to allow for more practical use of the given data. After the data has been collected and reviewed, the data is further cleaned and transformed for use in machine learning models. The data is then validated for such use and compared to its state before this data transformation process.\n",
    "\n",
    "Several model techniques are applied to the data to determine which techniques would be most beneficial based on a time-to-quality ratio. The most promising techniques are used to build models with. For these data modeling techniques feature selection and hyper parameter tuning will be applied. The found results will be used for the actual model training and validation procedure. The resulting models will be tested and analysed for usability in real life scenarios. Edge cases will be identified where prediction might not be reliable, accompanied with an advise about how to deal with these situations.\n",
    "\n",
    "Based on the models and their usability, a deployment is suggested that should also attempt to resolve edge cases which should not be handled by the chosen model for deployment.\n"
   ]
  },
  {
   "cell_type": "markdown",
   "id": "3ab16218-4957-4182-b912-93a0c8a5f1b7",
   "metadata": {
    "tags": [],
    "user_expressions": []
   },
   "source": [
    "## Notebook Initialisation\n",
    "```{important}\n",
    "If you're reading this notebook in a raw format:\n",
    "Install the Jupyterlab-MyST plugin and run these scripts before any other Python scripts are run, and before exporting this notebook.\n",
    "\n",
    "The first script below loads any important dependencies into the active kernel. Run this script the first time you open this notebook before attempting to run any other part of the notebook. It sets Matplotlib to display its content in this notebook, loads Tensorboard if available in your Jupyter notebook environment and displays which cpus and gpus are available to you for use with Tensorflow. Use of Tensorflow and SciKit-Learn is assumed in this script, however you are encouraged to write your own version of this notebook using PyTorch and/or any other desired libraries.\n",
    "\n",
    "The second script presented below is required for readability of this notebook. If it is not run, formatting of this notebook might look strange.\n",
    "```"
   ]
  },
  {
   "cell_type": "code",
   "execution_count": 30,
   "id": "f7df0d98-67b9-4939-a4ba-825b2960f3cd",
   "metadata": {
    "tags": []
   },
   "outputs": [
    {
     "name": "stdout",
     "output_type": "stream",
     "text": [
      "The tensorboard extension is already loaded. To reload it, use:\n",
      "  %reload_ext tensorboard\n",
      "\n",
      "Tensorflow has access to the following active devices:\n",
      "  - CPU: /physical_device:CPU:0\n",
      "  - GPU: /physical_device:GPU:0\n"
     ]
    }
   ],
   "source": [
    "import os\n",
    "import datetime\n",
    "\n",
    "import pandas as pd\n",
    "import numpy as np\n",
    "import pyarrow as pa\n",
    "from matplotlib import pyplot as plt\n",
    "import seaborn as sns\n",
    "import shap\n",
    "\n",
    "import tensorflow as tf\n",
    "\n",
    "import sklearn\n",
    "from sklearn.preprocessing import MinMaxScaler\n",
    "from sklearn.preprocessing import OrdinalEncoder\n",
    "from sklearn.neural_network import MLPRegressor\n",
    "from sklearn.tree import DecisionTreeRegressor\n",
    "from sklearn.ensemble import RandomForestRegressor\n",
    "from sklearn.linear_model import LinearRegression\n",
    "from sklearn.model_selection import train_test_split\n",
    "from sklearn.impute import KNNImputer\n",
    "from sklearn.metrics import mean_squared_error\n",
    "from sklearn.metrics import r2_score\n",
    "\n",
    "from xgboost import XGBRegressor\n",
    "\n",
    "import statsmodels.api as sm\n",
    "from dmba import regressionSummary, exhaustive_search\n",
    "from dmba import backward_elimination, forward_selection, stepwise_selection\n",
    "from dmba import adjusted_r2_score, AIC_score, BIC_score\n",
    "\n",
    "%matplotlib inline\n",
    "%load_ext tensorboard\n",
    "\n",
    "_devices = [f'{device.device_type}: {device.name}' for device in tf.config.list_physical_devices()]\n",
    "print('\\nTensorflow has access to the following active devices:\\n  -', '\\n  - '.join(_devices))"
   ]
  },
  {
   "cell_type": "code",
   "execution_count": 5,
   "id": "4dfbb6d6-1cdc-4111-b8a4-17aa59789863",
   "metadata": {
    "tags": []
   },
   "outputs": [
    {
     "data": {
      "text/html": [
       "<style>\n",
       "table {align:left; display:block}\n",
       "</style>\n"
      ],
      "text/plain": [
       "<IPython.core.display.HTML object>"
      ]
     },
     "metadata": {},
     "output_type": "display_data"
    }
   ],
   "source": [
    "%%html\n",
    "<style>\n",
    "table {align:left; display:block}\n",
    "</style>"
   ]
  },
  {
   "cell_type": "markdown",
   "id": "90d3bf2c-e968-451b-a29c-1a8a9783ce7d",
   "metadata": {
    "tags": [],
    "user_expressions": []
   },
   "source": [
    "# Data Acquisition\n",
    "---\n",
    "\n",
    "The most import parameter for successful machine learning is the quality of the data. During the data acquisition step the data is collected from its [source as a raw csv file](https://raw.githubusercontent.com/Roald1519166/Scraper/main/Data/huurwoningentotaalinactieftot.csv), the reliability of the source is analysed according to the [FAIR principals](https://www.go-fair.org/fair-principles/) and the quality of the data is validated according to the data quality conventions as described in [appendix A of this article](https://www.ncbi.nlm.nih.gov/pmc/articles/PMC5982846/#app-a.l.a.atitle) by Callahan et al. (2017).\n",
    "\n",
    "The reliability is validated to express to what degree others who are unfamiliar with the data set can trust the data source, and if the meta data provided supports their understanding of the data set. Accountability for the data source is most important to be able to produce an equally trustworthy machine learning model.\n",
    "The data quality is validated to make sure the data will provide quality information from which a machine learning model can interpret the underlying patterns captured in the data. If the quality of data is not properly maintained, any error will affect the machine learning process and negatively impact any reliability of any produced models."
   ]
  },
  {
   "cell_type": "markdown",
   "id": "a402c593-523e-4d46-93d2-c7ecb5bb9477",
   "metadata": {
    "user_expressions": []
   },
   "source": [
    "## Collect\n",
    "\n",
    "The [data source files](https://github.com/Roald1519166/Scraper/tree/main/Data) available from the [scraper repository](https://github.com/Roald1519166/Scraper) contain all scraped rental properties since 2022-11-20. There are different types of data sources as described in {numref}`table %s <data-sources>`.\n",
    "\n",
    "```{list-table} Data source types\n",
    ":header-rows: 1\n",
    ":name: data-sources\n",
    "\n",
    "* - Filename\n",
    "  - Formats\n",
    "  - Contents\n",
    "* - _huurwoningentotaalinactieftot_\n",
    "  - [csv](https://raw.githubusercontent.com/Roald1519166/Scraper/main/Data/huurwoningentotaalinactieftot.csv) | [xlsx](https://raw.githubusercontent.com/Roald1519166/Scraper/main/Data/huurwoningentotaalinactieftot.xlsx)\n",
    "  - rental properties which are no longer available\n",
    "* - _huurwoningentotaalvoorpowerbi_\n",
    "  - [csv](https://raw.githubusercontent.com/Roald1519166/Scraper/main/Data/huurwoningentotaalvoorpowerbi.csv) | [xlsx](https://raw.githubusercontent.com/Roald1519166/Scraper/main/Data/huurwoningentotaalvoorpowerbi.xlsx)\n",
    "  - rental properties which are still available\n",
    "* - _huurwoningentotaal{timestamp}_\n",
    "  - xlsx\n",
    "  - rental properties which are still available as if the given timestamp in the filename\n",
    "```\n",
    "\n",
    "The goal of the machine learning model is to determine duration of availability of rental properties on the market. The [_huurwoningentotaalinactieftot_](https://raw.githubusercontent.com/Roald1519166/Scraper/main/Data/huurwoningentotaalinactieftot.csv)  data source has been chosen to achieve this goal as it contains all scraped properties that are no longer available on the market.\n",
    "\n",
    "The headers used for each column of the data sources are consistent among the data source. These headers are each given in Dutch, and have been translated to English for use in this notebook. The contents of the data sources are described in {numref}`table %s <data-source-contents>`.\n",
    "\n",
    "```{list-table} Data source contents\n",
    ":header-rows: 1\n",
    ":name: data-source-contents\n",
    "\n",
    "* - Variable Name\n",
    "  - Referenced Name\n",
    "  - Description\n",
    "* - **Plek**\n",
    "  - _address_\n",
    "  - The street address of a rental property. It does not contain the house number or apartment details.\n",
    "* - **Wijk**\n",
    "  - _district_\n",
    "  - The district of a city in which the rental property is found.\n",
    "* - **Postcode**\n",
    "  - _postalCode_\n",
    "  - The postal code at which the rental property is found. This will be the zip code if postal code is not applicable (e.g. United States of America).\n",
    "* - **Plaatsnaam**\n",
    "  - _city_\n",
    "  - The name of the city or town in which the rental property is found.\n",
    "* - **Prijs**\n",
    "  - _rate_\n",
    "  - The monthly rate the rental property costs in euros(€).\n",
    "* - **Oppervlakte**\n",
    "  - _livingArea_\n",
    "  - The amount of living area the rental property provides in square meters(m$^2$).\n",
    "* - **Kamers**\n",
    "  - _rooms_\n",
    "  - The amount of rooms available in the rental property.\n",
    "* - **Interieur**\n",
    "  - _interior_\n",
    "  - In what state the interior of the property is being rented out. This indicates whether a rental property will come furnished, upholstered (unfurnished) or bare. (Possible values: _Gemeubileerd_, _Gestoffeerd_, _Kaal_)\n",
    "* - **Link**\n",
    "  - _link_\n",
    "  - The url from which the rental offer has been sourced.\n",
    "* - **AangebodenSinds**\n",
    "  - _offerSince_\n",
    "  - The date at which the rental offer was made available.\n",
    "* - **Beschikbaarheid**\n",
    "  - _availableFrom_\n",
    "  - The earliest possible effective date at which the rental property can be rented.\n",
    "* - **Woningtype**\n",
    "  - _housingType_\n",
    "  - What type of property is being rented out. This indicates whether a rental property is a room, studio, apartment or house (Possible values: _Kamer_, _Studio_, _Appartement_, _Huis_)\n",
    "* - **Bouwjaar**\n",
    "  - _constructionYear_\n",
    "  - The year during which the construction of the rental property was completed.\n",
    "* - **Parkeren**\n",
    "  - _parkingAvailable_\n",
    "  - Whether the offer has explicitly made notice of parking availability with the rental property, indicated by either yes or no (Possible values: _Ja_, _Nee_)\n",
    "* - **Updated**\n",
    "  - _scrapingDate_\n",
    "  - The date and time at which this record has been scraped to be appended to the data set.\n",
    "* - **Status**\n",
    "  - _status_\n",
    "  - The current status of a rental property since the last time the scraper was active. This indicates whether a property just became available, is still active, or is no longer available (Possible values: _New_, _Active_, _Inactive_)\n",
    "* - **Land**\n",
    "  - _country_\n",
    "  - The country in which the rental property is located.\n",
    "* - **Outdated**\n",
    "  - _offerUntil_\n",
    "  - The date at which the rental property was no longer available. This column is only available in the 'huurwoningentotaalinactieftot' data source.\n",
    "```"
   ]
  },
  {
   "cell_type": "markdown",
   "id": "a429d609-f539-4464-a58e-36c1b9a17912",
   "metadata": {
    "user_expressions": []
   },
   "source": [
    "The script below will load the data into memory. The column names have been changed according to {numref}`table %s <data-source-contents>`. The pandas data frame makes use of the default numpy datatype backend, as the pyarrow backend cannot produce a mean or standard deviation for the '_rate_' variable in the data set. Numeric variables have been converted to its applicable scale. The '_country_' variable has been converted to a categorical object also, as the data set does not have any existing value for this variable."
   ]
  },
  {
   "cell_type": "code",
   "execution_count": 7,
   "id": "f87961e8-32a6-4cb3-be6f-4cad46b63483",
   "metadata": {},
   "outputs": [],
   "source": [
    "columns = ['address', 'district', 'postalCode', 'city', 'rate', 'livingArea', 'rooms', 'interior', \n",
    "           'link', 'offerSince', 'availableFrom', 'housingType', 'constructionYear', 'parkingAvailable', 'scrapingDate', 'status', 'country', 'offerUntil']\n",
    "data = pd.read_csv('https://raw.githubusercontent.com/Roald1519166/Scraper/main/Data/huurwoningentotaalinactieftot.csv', low_memory=False, header=0, names=columns)\n",
    "# data = data.convert_dtypes(dtype_backend='pyarrow')\n",
    "\n",
    "data['rate'] = pd.to_numeric(data['rate'], errors='coerce', downcast='float')\n",
    "data['livingArea'] = pd.to_numeric(data['livingArea'], errors='coerce', downcast='float')\n",
    "data['rooms'] = pd.to_numeric(data['rooms'], errors='coerce', downcast='integer')\n",
    "data['constructionYear'] = pd.to_numeric(data['constructionYear'], errors='coerce', downcast='integer')\n",
    "\n",
    "data['country'] = data['country'].astype('object')"
   ]
  },
  {
   "cell_type": "markdown",
   "id": "831ddc49-8baa-4992-a38a-f42f8c425b6a",
   "metadata": {
    "tags": []
   },
   "source": [
    "## Curate\n",
    "\n"
   ]
  },
  {
   "cell_type": "markdown",
   "id": "0669ef3b-2bf0-4d45-9043-82148f8ebc97",
   "metadata": {},
   "source": [
    "### Fair-analysis\n",
    "[explanation](https://www.go-fair.org/fair-principles/)\n",
    "\n"
   ]
  },
  {
   "cell_type": "markdown",
   "id": "fc647e0a-dec9-4a88-86f0-63ac4b9b1d90",
   "metadata": {},
   "source": [
    "#### [Findable](https://www.go-fair.org/fair-principles/#:~:text=FAIRification%20Framework.-,Findable,-The%20first%20step)\n",
    "\n",
    "F1: Partial globally unique identifier\n",
    "\n",
    "F2: No descriptive information about the context, quality and condition, or characteristics of the data. (not explicitly described contextual data -> How and when data was acquired)\n",
    "\n",
    "F3: The identifier is the meta-data. Technically identifier and meta-data are linked.\n",
    "\n",
    "F4: Registered and publicly available on GitHub, can be searched but isn't easily discoverable on the service without prior knowledge of its existence."
   ]
  },
  {
   "cell_type": "markdown",
   "id": "8732170d-0b13-4818-8201-1d5a3d62deea",
   "metadata": {
    "tags": []
   },
   "source": [
    "#### [Accessible](https://www.go-fair.org/fair-principles/#:~:text=a%20searchable%20resource-,Accessible,-Once%20the%20user)\n",
    "\n",
    "A1: No specialised protocol required. Https request to a github repository.\n",
    "\n",
    "A1.1: Https protocol is open, free and universally implemented standard for web browsing since May 2000 as specified in RFC2818 when it was https was made to use the new SSL based TLS protocol.\n",
    "\n",
    "A1.2: If the GitHub repository would have been private authentication could have been implemented for accessing the data. As if now, such is irrelevant for the assessment of A1. \n",
    "\n",
    "A2: Since the meta-data is highly linked to the data itself, there is no meta-data persistence guaranteed when the data itself has been removed."
   ]
  },
  {
   "cell_type": "markdown",
   "id": "6e09670e-c6ca-4038-aad6-7c50c1f47c04",
   "metadata": {},
   "source": [
    "#### [Interoperable](https://www.go-fair.org/fair-principles/#:~:text=no%20longer%20available-,Interoperable,-The%20data%20usually)\n",
    "\n",
    "I1: The data is both available in the open file standards csv and xlsx having a clear formal specification each. The data can even be used in scenarios which it has not been designed for if so desired.\n",
    "\n",
    "I2: Vocabulary not explicitly described, but most terminology is used in common tongue. Description of columns recommended.\n",
    "\n",
    "I3: Data is sourced from rental housing websites. The entries are directly associated with its source via a url. Could be better explained, but citations are available where citations are needed."
   ]
  },
  {
   "cell_type": "markdown",
   "id": "40b30ff0-b682-4285-976b-3832f9e78c71",
   "metadata": {},
   "source": [
    "#### [Reusable](https://www.go-fair.org/fair-principles/#:~:text=other%20(meta)data-,Reusable,-The%20ultimate%20goal)\n",
    "\n",
    "R1: The data has no contextual information about itself nor its labels (columns) except for date of creation of the new data source. It doesn't assume a specific data consumer identity, but does not properly support a general data consumer either:\n",
    "- Scope of the data not defined (purpose of data collection/generation)\n",
    "- Particularities or limitations of the data not defined where necessary\n",
    "- Methods of acquisition of the data are not clearly stated\n",
    "- Data is unrefined, which is not stated in its metadata\n",
    "- Fields/columns are not explained, and knowledge is assumed to be inherent\n",
    "- Data versioning and archiving is not explicitly documented\n",
    "\n",
    "R1.1: No data usage license defined despite the data being publicly accessible. Not clear to both human _and_ machine.\n",
    "\n",
    "R1.2: Source of data is defined in the data itself, but the process of data acquisition is not explained.\n",
    "\n",
    "R1.3: Cannot judge community standards within this data domain. Most labels/fields are easily understandable and needn't have much explanation, a few such labels do not have a domain specific identity and are vague to interpret."
   ]
  },
  {
   "cell_type": "markdown",
   "id": "40fbb711-854a-4d3b-a7e1-a10e081f71a1",
   "metadata": {
    "user_expressions": []
   },
   "source": [
    "### Data quality analysis\n",
    "\n"
   ]
  },
  {
   "cell_type": "code",
   "execution_count": 99,
   "id": "8b1132c6-352e-427c-a9b2-f1f1b55db360",
   "metadata": {},
   "outputs": [
    {
     "data": {
      "text/html": [
       "<div>\n",
       "<style scoped>\n",
       "    .dataframe tbody tr th:only-of-type {\n",
       "        vertical-align: middle;\n",
       "    }\n",
       "\n",
       "    .dataframe tbody tr th {\n",
       "        vertical-align: top;\n",
       "    }\n",
       "\n",
       "    .dataframe thead th {\n",
       "        text-align: right;\n",
       "    }\n",
       "</style>\n",
       "<table border=\"1\" class=\"dataframe\">\n",
       "  <thead>\n",
       "    <tr style=\"text-align: right;\">\n",
       "      <th></th>\n",
       "      <th>address</th>\n",
       "      <th>district</th>\n",
       "      <th>postalCode</th>\n",
       "      <th>city</th>\n",
       "      <th>rate</th>\n",
       "      <th>livingArea</th>\n",
       "      <th>rooms</th>\n",
       "      <th>interior</th>\n",
       "      <th>link</th>\n",
       "      <th>offerSince</th>\n",
       "      <th>availabilityFrom</th>\n",
       "      <th>housingType</th>\n",
       "      <th>constructionYear</th>\n",
       "      <th>parkingAvailable</th>\n",
       "      <th>scrapingDate</th>\n",
       "      <th>status</th>\n",
       "      <th>country</th>\n",
       "      <th>offerUntil</th>\n",
       "    </tr>\n",
       "  </thead>\n",
       "  <tbody>\n",
       "    <tr>\n",
       "      <th>0</th>\n",
       "      <td>Nassaustraat</td>\n",
       "      <td>Nassaubuurt</td>\n",
       "      <td>5046 NS</td>\n",
       "      <td>Tilburg</td>\n",
       "      <td>1180.0</td>\n",
       "      <td>59.0</td>\n",
       "      <td>3.0</td>\n",
       "      <td>Gestoffeerd</td>\n",
       "      <td>https://www.huurwoningen.nl/huren/tilburg/1079...</td>\n",
       "      <td>3 weken</td>\n",
       "      <td>Per 30-12-2022</td>\n",
       "      <td>Appartement</td>\n",
       "      <td>1957.0</td>\n",
       "      <td>Nee</td>\n",
       "      <td>2022-11-20</td>\n",
       "      <td>Inactive</td>\n",
       "      <td>NaN</td>\n",
       "      <td>2022-11-28</td>\n",
       "    </tr>\n",
       "    <tr>\n",
       "      <th>1</th>\n",
       "      <td>Korte Mare</td>\n",
       "      <td>Noordvest</td>\n",
       "      <td>2312 NN</td>\n",
       "      <td>Leiden</td>\n",
       "      <td>745.0</td>\n",
       "      <td>30.0</td>\n",
       "      <td>1.0</td>\n",
       "      <td>Gestoffeerd</td>\n",
       "      <td>https://www.huurwoningen.nl/huren/leiden/13259...</td>\n",
       "      <td>19-11-2022</td>\n",
       "      <td>Per 12-12-2022</td>\n",
       "      <td>Appartement</td>\n",
       "      <td>1760.0</td>\n",
       "      <td>Nee</td>\n",
       "      <td>2022-11-20</td>\n",
       "      <td>Inactive</td>\n",
       "      <td>NaN</td>\n",
       "      <td>2022-11-28</td>\n",
       "    </tr>\n",
       "    <tr>\n",
       "      <th>2</th>\n",
       "      <td>Demertstraat</td>\n",
       "      <td>Heer</td>\n",
       "      <td>6227 AR</td>\n",
       "      <td>Maastricht</td>\n",
       "      <td>805.0</td>\n",
       "      <td>36.0</td>\n",
       "      <td>2.0</td>\n",
       "      <td>Gestoffeerd</td>\n",
       "      <td>https://www.huurwoningen.nl/huren/maastricht/1...</td>\n",
       "      <td>19-11-2022</td>\n",
       "      <td>Per 01-01-2023</td>\n",
       "      <td>Appartement</td>\n",
       "      <td>NaN</td>\n",
       "      <td>Nee</td>\n",
       "      <td>2022-11-20</td>\n",
       "      <td>Inactive</td>\n",
       "      <td>NaN</td>\n",
       "      <td>2022-11-28</td>\n",
       "    </tr>\n",
       "    <tr>\n",
       "      <th>3</th>\n",
       "      <td>Beeltplein</td>\n",
       "      <td>Boschstraatkwartier</td>\n",
       "      <td>6211 AM</td>\n",
       "      <td>Maastricht</td>\n",
       "      <td>1195.0</td>\n",
       "      <td>79.0</td>\n",
       "      <td>3.0</td>\n",
       "      <td>Gestoffeerd</td>\n",
       "      <td>https://www.huurwoningen.nl/huren/maastricht/1...</td>\n",
       "      <td>19-11-2022</td>\n",
       "      <td>Per 01-01-2023</td>\n",
       "      <td>Appartement</td>\n",
       "      <td>NaN</td>\n",
       "      <td>Nee</td>\n",
       "      <td>2022-11-20</td>\n",
       "      <td>Inactive</td>\n",
       "      <td>NaN</td>\n",
       "      <td>2022-11-28</td>\n",
       "    </tr>\n",
       "    <tr>\n",
       "      <th>4</th>\n",
       "      <td>Spoorstraat</td>\n",
       "      <td>Winkelcentrum</td>\n",
       "      <td>5911 KJ</td>\n",
       "      <td>Venlo</td>\n",
       "      <td>750.0</td>\n",
       "      <td>40.0</td>\n",
       "      <td>2.0</td>\n",
       "      <td>NaN</td>\n",
       "      <td>https://www.huurwoningen.nl/huren/venlo/132592...</td>\n",
       "      <td>19-11-2022</td>\n",
       "      <td>Per direct</td>\n",
       "      <td>Appartement</td>\n",
       "      <td>1962.0</td>\n",
       "      <td>Nee</td>\n",
       "      <td>2022-11-20</td>\n",
       "      <td>Inactive</td>\n",
       "      <td>NaN</td>\n",
       "      <td>2022-11-28</td>\n",
       "    </tr>\n",
       "    <tr>\n",
       "      <th>5</th>\n",
       "      <td>Wycker Grachtstraat</td>\n",
       "      <td>Wyck</td>\n",
       "      <td>6221 CW</td>\n",
       "      <td>Maastricht</td>\n",
       "      <td>438.0</td>\n",
       "      <td>22.0</td>\n",
       "      <td>1.0</td>\n",
       "      <td>Gestoffeerd</td>\n",
       "      <td>https://www.huurwoningen.nl/huren/maastricht/1...</td>\n",
       "      <td>19-11-2022</td>\n",
       "      <td>Per 01-01-2023</td>\n",
       "      <td>Kamer</td>\n",
       "      <td>NaN</td>\n",
       "      <td>Ja</td>\n",
       "      <td>2022-11-20</td>\n",
       "      <td>Inactive</td>\n",
       "      <td>NaN</td>\n",
       "      <td>2022-11-28</td>\n",
       "    </tr>\n",
       "    <tr>\n",
       "      <th>6</th>\n",
       "      <td>Kommel</td>\n",
       "      <td>Kommelkwartier</td>\n",
       "      <td>6211 NX</td>\n",
       "      <td>Maastricht</td>\n",
       "      <td>321.0</td>\n",
       "      <td>13.0</td>\n",
       "      <td>1.0</td>\n",
       "      <td>Gestoffeerd</td>\n",
       "      <td>https://www.huurwoningen.nl/huren/maastricht/1...</td>\n",
       "      <td>19-11-2022</td>\n",
       "      <td>Per 01-01-2023</td>\n",
       "      <td>Kamer</td>\n",
       "      <td>NaN</td>\n",
       "      <td>Ja</td>\n",
       "      <td>2022-11-20</td>\n",
       "      <td>Inactive</td>\n",
       "      <td>NaN</td>\n",
       "      <td>2022-11-28</td>\n",
       "    </tr>\n",
       "    <tr>\n",
       "      <th>7</th>\n",
       "      <td>Regentesselaan</td>\n",
       "      <td>Haag Koningsplein en omgeving</td>\n",
       "      <td>2562 CW</td>\n",
       "      <td>Den Haag</td>\n",
       "      <td>820.0</td>\n",
       "      <td>41.0</td>\n",
       "      <td>2.0</td>\n",
       "      <td>Gestoffeerd</td>\n",
       "      <td>https://www.huurwoningen.nl/huren/den-haag/132...</td>\n",
       "      <td>18-11-2022</td>\n",
       "      <td>Per 15-12-2022</td>\n",
       "      <td>Appartement</td>\n",
       "      <td>1898.0</td>\n",
       "      <td>Ja</td>\n",
       "      <td>2022-11-20</td>\n",
       "      <td>Inactive</td>\n",
       "      <td>NaN</td>\n",
       "      <td>2022-11-28</td>\n",
       "    </tr>\n",
       "    <tr>\n",
       "      <th>8</th>\n",
       "      <td>van Sevenbergestraat</td>\n",
       "      <td>Voorburg Noord noord</td>\n",
       "      <td>2274 PJ</td>\n",
       "      <td>Voorburg</td>\n",
       "      <td>1550.0</td>\n",
       "      <td>64.0</td>\n",
       "      <td>4.0</td>\n",
       "      <td>Gestoffeerd</td>\n",
       "      <td>https://www.huurwoningen.nl/huren/voorburg/132...</td>\n",
       "      <td>18-11-2022</td>\n",
       "      <td>Per 01-12-2022</td>\n",
       "      <td>Appartement</td>\n",
       "      <td>1929.0</td>\n",
       "      <td>Nee</td>\n",
       "      <td>2022-11-20</td>\n",
       "      <td>Inactive</td>\n",
       "      <td>NaN</td>\n",
       "      <td>2022-11-28</td>\n",
       "    </tr>\n",
       "    <tr>\n",
       "      <th>9</th>\n",
       "      <td>Columbusstraat</td>\n",
       "      <td>Haag Valkenboskwartier</td>\n",
       "      <td>2561 AJ</td>\n",
       "      <td>Den Haag</td>\n",
       "      <td>1150.0</td>\n",
       "      <td>56.0</td>\n",
       "      <td>1.0</td>\n",
       "      <td>Gestoffeerd</td>\n",
       "      <td>https://www.huurwoningen.nl/huren/den-haag/132...</td>\n",
       "      <td>18-11-2022</td>\n",
       "      <td>Per 09-12-2022</td>\n",
       "      <td>Appartement</td>\n",
       "      <td>NaN</td>\n",
       "      <td>Nee</td>\n",
       "      <td>2022-11-20</td>\n",
       "      <td>Inactive</td>\n",
       "      <td>NaN</td>\n",
       "      <td>2022-11-28</td>\n",
       "    </tr>\n",
       "  </tbody>\n",
       "</table>\n",
       "</div>"
      ],
      "text/plain": [
       "                address                       district postalCode        city   \n",
       "0          Nassaustraat                    Nassaubuurt    5046 NS     Tilburg  \\\n",
       "1            Korte Mare                      Noordvest    2312 NN      Leiden   \n",
       "2          Demertstraat                           Heer    6227 AR  Maastricht   \n",
       "3            Beeltplein            Boschstraatkwartier    6211 AM  Maastricht   \n",
       "4           Spoorstraat                  Winkelcentrum    5911 KJ       Venlo   \n",
       "5   Wycker Grachtstraat                           Wyck    6221 CW  Maastricht   \n",
       "6                Kommel                 Kommelkwartier    6211 NX  Maastricht   \n",
       "7        Regentesselaan  Haag Koningsplein en omgeving    2562 CW    Den Haag   \n",
       "8  van Sevenbergestraat           Voorburg Noord noord    2274 PJ    Voorburg   \n",
       "9        Columbusstraat         Haag Valkenboskwartier    2561 AJ    Den Haag   \n",
       "\n",
       "     rate  livingArea  rooms     interior   \n",
       "0  1180.0        59.0    3.0  Gestoffeerd  \\\n",
       "1   745.0        30.0    1.0  Gestoffeerd   \n",
       "2   805.0        36.0    2.0  Gestoffeerd   \n",
       "3  1195.0        79.0    3.0  Gestoffeerd   \n",
       "4   750.0        40.0    2.0          NaN   \n",
       "5   438.0        22.0    1.0  Gestoffeerd   \n",
       "6   321.0        13.0    1.0  Gestoffeerd   \n",
       "7   820.0        41.0    2.0  Gestoffeerd   \n",
       "8  1550.0        64.0    4.0  Gestoffeerd   \n",
       "9  1150.0        56.0    1.0  Gestoffeerd   \n",
       "\n",
       "                                                link  offerSince   \n",
       "0  https://www.huurwoningen.nl/huren/tilburg/1079...     3 weken  \\\n",
       "1  https://www.huurwoningen.nl/huren/leiden/13259...  19-11-2022   \n",
       "2  https://www.huurwoningen.nl/huren/maastricht/1...  19-11-2022   \n",
       "3  https://www.huurwoningen.nl/huren/maastricht/1...  19-11-2022   \n",
       "4  https://www.huurwoningen.nl/huren/venlo/132592...  19-11-2022   \n",
       "5  https://www.huurwoningen.nl/huren/maastricht/1...  19-11-2022   \n",
       "6  https://www.huurwoningen.nl/huren/maastricht/1...  19-11-2022   \n",
       "7  https://www.huurwoningen.nl/huren/den-haag/132...  18-11-2022   \n",
       "8  https://www.huurwoningen.nl/huren/voorburg/132...  18-11-2022   \n",
       "9  https://www.huurwoningen.nl/huren/den-haag/132...  18-11-2022   \n",
       "\n",
       "  availabilityFrom  housingType  constructionYear parkingAvailable   \n",
       "0   Per 30-12-2022  Appartement            1957.0              Nee  \\\n",
       "1   Per 12-12-2022  Appartement            1760.0              Nee   \n",
       "2   Per 01-01-2023  Appartement               NaN              Nee   \n",
       "3   Per 01-01-2023  Appartement               NaN              Nee   \n",
       "4       Per direct  Appartement            1962.0              Nee   \n",
       "5   Per 01-01-2023        Kamer               NaN               Ja   \n",
       "6   Per 01-01-2023        Kamer               NaN               Ja   \n",
       "7   Per 15-12-2022  Appartement            1898.0               Ja   \n",
       "8   Per 01-12-2022  Appartement            1929.0              Nee   \n",
       "9   Per 09-12-2022  Appartement               NaN              Nee   \n",
       "\n",
       "  scrapingDate    status country  offerUntil  \n",
       "0   2022-11-20  Inactive     NaN  2022-11-28  \n",
       "1   2022-11-20  Inactive     NaN  2022-11-28  \n",
       "2   2022-11-20  Inactive     NaN  2022-11-28  \n",
       "3   2022-11-20  Inactive     NaN  2022-11-28  \n",
       "4   2022-11-20  Inactive     NaN  2022-11-28  \n",
       "5   2022-11-20  Inactive     NaN  2022-11-28  \n",
       "6   2022-11-20  Inactive     NaN  2022-11-28  \n",
       "7   2022-11-20  Inactive     NaN  2022-11-28  \n",
       "8   2022-11-20  Inactive     NaN  2022-11-28  \n",
       "9   2022-11-20  Inactive     NaN  2022-11-28  "
      ]
     },
     "execution_count": 99,
     "metadata": {},
     "output_type": "execute_result"
    }
   ],
   "source": [
    "data.head(10)"
   ]
  },
  {
   "cell_type": "code",
   "execution_count": 100,
   "id": "7cb2b699-a41f-4c1f-8bfd-69abadf0bf8a",
   "metadata": {
    "tags": []
   },
   "outputs": [
    {
     "name": "stdout",
     "output_type": "stream",
     "text": [
      "<class 'pandas.core.frame.DataFrame'>\n",
      "RangeIndex: 145723 entries, 0 to 145722\n",
      "Data columns (total 18 columns):\n",
      " #   Column            Non-Null Count   Dtype  \n",
      "---  ------            --------------   -----  \n",
      " 0   address           145723 non-null  object \n",
      " 1   district          145723 non-null  object \n",
      " 2   postalCode        145723 non-null  object \n",
      " 3   city              145723 non-null  object \n",
      " 4   rate              145566 non-null  float32\n",
      " 5   livingArea        145723 non-null  float32\n",
      " 6   rooms             134192 non-null  float64\n",
      " 7   interior          116189 non-null  object \n",
      " 8   link              145723 non-null  object \n",
      " 9   offerSince        145504 non-null  object \n",
      " 10  availabilityFrom  145504 non-null  object \n",
      " 11  housingType       145504 non-null  object \n",
      " 12  constructionYear  90581 non-null   float64\n",
      " 13  parkingAvailable  145504 non-null  object \n",
      " 14  scrapingDate      145723 non-null  object \n",
      " 15  status            145723 non-null  object \n",
      " 16  country           0 non-null       object \n",
      " 17  offerUntil        145723 non-null  object \n",
      "dtypes: float32(2), float64(2), object(14)\n",
      "memory usage: 18.9+ MB\n"
     ]
    }
   ],
   "source": [
    "data.info()"
   ]
  },
  {
   "cell_type": "code",
   "execution_count": 101,
   "id": "7bd44254-3491-4b60-803d-82800336d9eb",
   "metadata": {
    "tags": []
   },
   "outputs": [
    {
     "name": "stdout",
     "output_type": "stream",
     "text": [
      "# Nummerical data\n"
     ]
    },
    {
     "data": {
      "text/html": [
       "<div>\n",
       "<style scoped>\n",
       "    .dataframe tbody tr th:only-of-type {\n",
       "        vertical-align: middle;\n",
       "    }\n",
       "\n",
       "    .dataframe tbody tr th {\n",
       "        vertical-align: top;\n",
       "    }\n",
       "\n",
       "    .dataframe thead th {\n",
       "        text-align: right;\n",
       "    }\n",
       "</style>\n",
       "<table border=\"1\" class=\"dataframe\">\n",
       "  <thead>\n",
       "    <tr style=\"text-align: right;\">\n",
       "      <th></th>\n",
       "      <th>rate</th>\n",
       "      <th>livingArea</th>\n",
       "      <th>rooms</th>\n",
       "      <th>constructionYear</th>\n",
       "    </tr>\n",
       "  </thead>\n",
       "  <tbody>\n",
       "    <tr>\n",
       "      <th>count</th>\n",
       "      <td>145566.000000</td>\n",
       "      <td>145723.000000</td>\n",
       "      <td>134192.000000</td>\n",
       "      <td>90581.000000</td>\n",
       "    </tr>\n",
       "    <tr>\n",
       "      <th>mean</th>\n",
       "      <td>1436.868164</td>\n",
       "      <td>77.924408</td>\n",
       "      <td>2.892296</td>\n",
       "      <td>1951.925625</td>\n",
       "    </tr>\n",
       "    <tr>\n",
       "      <th>std</th>\n",
       "      <td>780.172607</td>\n",
       "      <td>42.698353</td>\n",
       "      <td>1.364149</td>\n",
       "      <td>112.935101</td>\n",
       "    </tr>\n",
       "    <tr>\n",
       "      <th>min</th>\n",
       "      <td>65.000000</td>\n",
       "      <td>1.000000</td>\n",
       "      <td>1.000000</td>\n",
       "      <td>0.000000</td>\n",
       "    </tr>\n",
       "    <tr>\n",
       "      <th>25%</th>\n",
       "      <td>950.000000</td>\n",
       "      <td>50.000000</td>\n",
       "      <td>2.000000</td>\n",
       "      <td>1926.000000</td>\n",
       "    </tr>\n",
       "    <tr>\n",
       "      <th>50%</th>\n",
       "      <td>1295.000000</td>\n",
       "      <td>73.000000</td>\n",
       "      <td>3.000000</td>\n",
       "      <td>1965.000000</td>\n",
       "    </tr>\n",
       "    <tr>\n",
       "      <th>75%</th>\n",
       "      <td>1750.000000</td>\n",
       "      <td>100.000000</td>\n",
       "      <td>4.000000</td>\n",
       "      <td>2003.000000</td>\n",
       "    </tr>\n",
       "    <tr>\n",
       "      <th>max</th>\n",
       "      <td>17500.000000</td>\n",
       "      <td>968.000000</td>\n",
       "      <td>19.000000</td>\n",
       "      <td>2024.000000</td>\n",
       "    </tr>\n",
       "  </tbody>\n",
       "</table>\n",
       "</div>"
      ],
      "text/plain": [
       "                rate     livingArea          rooms  constructionYear\n",
       "count  145566.000000  145723.000000  134192.000000      90581.000000\n",
       "mean     1436.868164      77.924408       2.892296       1951.925625\n",
       "std       780.172607      42.698353       1.364149        112.935101\n",
       "min        65.000000       1.000000       1.000000          0.000000\n",
       "25%       950.000000      50.000000       2.000000       1926.000000\n",
       "50%      1295.000000      73.000000       3.000000       1965.000000\n",
       "75%      1750.000000     100.000000       4.000000       2003.000000\n",
       "max     17500.000000     968.000000      19.000000       2024.000000"
      ]
     },
     "execution_count": 101,
     "metadata": {},
     "output_type": "execute_result"
    }
   ],
   "source": [
    "print(\"# Nummerical data\")\n",
    "data.describe(include=None)"
   ]
  },
  {
   "cell_type": "code",
   "execution_count": 95,
   "id": "47db3ad8-7f36-4523-bd39-cc2fc8b4a7d3",
   "metadata": {
    "tags": []
   },
   "outputs": [
    {
     "data": {
      "text/plain": [
       "<Axes: xlabel='constructionYear', ylabel='Count'>"
      ]
     },
     "execution_count": 95,
     "metadata": {},
     "output_type": "execute_result"
    },
    {
     "data": {
      "image/png": "[encoded data removed]",
      "text/plain": [
       "<Figure size 1200x800 with 4 Axes>"
      ]
     },
     "metadata": {},
     "output_type": "display_data"
    }
   ],
   "source": [
    "fig, axes = plt.subplots(2, 2, figsize=(12, 8))\n",
    "fig.suptitle('Histogram - Data Distribution', fontsize=16)\n",
    "\n",
    "sns.histplot(ax=axes[0, 0], data=data, x='rate', bins=100, binrange=[65, 10000])\n",
    "sns.histplot(ax=axes[0, 1], data=data, x='livingArea', bins=100, binrange=[1, 500])\n",
    "sns.histplot(ax=axes[1, 0], data=data, x='rooms', bins=11, binrange=[1, 12])\n",
    "sns.histplot(ax=axes[1, 1], data=data, x='constructionYear', bins=50, binrange=[1500, 2100])"
   ]
  },
  {
   "cell_type": "code",
   "execution_count": 96,
   "id": "19c86a24-e2d6-4fb0-b77e-f45eac8d0785",
   "metadata": {
    "tags": []
   },
   "outputs": [
    {
     "data": {
      "text/plain": [
       "<Axes: ylabel='constructionYear'>"
      ]
     },
     "execution_count": 96,
     "metadata": {},
     "output_type": "execute_result"
    },
    {
     "data": {
      "image/png": "[encoded data removed]",
      "text/plain": [
       "<Figure size 1200x800 with 4 Axes>"
      ]
     },
     "metadata": {},
     "output_type": "display_data"
    }
   ],
   "source": [
    "fig, axes = plt.subplots(2, 2, figsize=(12, 8))\n",
    "fig.suptitle('Boxplot - Data Distribution', fontsize=16)\n",
    "\n",
    "sns.boxplot(ax=axes[0, 0], data=data, y='rate')\n",
    "sns.boxplot(ax=axes[0, 1], data=data, y='livingArea')\n",
    "sns.boxplot(ax=axes[1, 0], data=data, y='rooms')\n",
    "sns.boxplot(ax=axes[1, 1], data=data, y='constructionYear')"
   ]
  },
  {
   "cell_type": "code",
   "execution_count": 123,
   "id": "bf546b77-cae2-4609-8e13-2d6f6f901095",
   "metadata": {
    "tags": []
   },
   "outputs": [
    {
     "name": "stdout",
     "output_type": "stream",
     "text": [
      "# Outliers data (std > 3.0)\n"
     ]
    },
    {
     "data": {
      "text/plain": [
       "rate                2120.0\n",
       "livingArea          1695.0\n",
       "rooms               1899.0\n",
       "constructionYear     536.0\n",
       "dtype: float64"
      ]
     },
     "execution_count": 123,
     "metadata": {},
     "output_type": "execute_result"
    }
   ],
   "source": [
    "print(\"# Outliers data (std > 3.0)\")\n",
    "std = data.std(numeric_only=True)\n",
    "mean = data.mean(numeric_only=True)\n",
    "\n",
    "lower_bound = mean - (3*std)\n",
    "upper_bound = mean + (3*std)\n",
    "\n",
    "outliers = std.copy()\n",
    "outliers['rate'] = len(data[(data['rate'] < lower_bound['rate']) | (data['rate'] > upper_bound['rate'])])\n",
    "outliers['livingArea'] = len(data[(data['livingArea'] < lower_bound['livingArea']) | (data['livingArea'] > upper_bound['livingArea'])])\n",
    "outliers['rooms'] = len(data[(data['rooms'] < lower_bound['rooms']) | (data['rooms'] > upper_bound['rooms'])])\n",
    "outliers['constructionYear'] = len(data[(data['constructionYear'] < lower_bound['constructionYear']) | (data['constructionYear'] > upper_bound['constructionYear'])])\n",
    "\n",
    "outliers.head()"
   ]
  },
  {
   "cell_type": "code",
   "execution_count": 116,
   "id": "e09bc135-33b1-4763-8822-696dcddbc291",
   "metadata": {
    "tags": []
   },
   "outputs": [
    {
     "data": {
      "text/plain": [
       "<Axes: title={'center': 'Correlation Matrix'}>"
      ]
     },
     "execution_count": 116,
     "metadata": {},
     "output_type": "execute_result"
    },
    {
     "data": {
      "image/png": "[encoded data removed]",
      "text/plain": [
       "<Figure size 640x480 with 2 Axes>"
      ]
     },
     "metadata": {},
     "output_type": "display_data"
    }
   ],
   "source": [
    "plt.title('Correlation Matrix')\n",
    "sns.heatmap(data=data.corr(numeric_only=True), vmin=-1, vmax=1, cmap='RdYlGn')"
   ]
  },
  {
   "cell_type": "code",
   "execution_count": 39,
   "id": "542b6915-78da-4280-b589-cf491f36b605",
   "metadata": {
    "tags": []
   },
   "outputs": [
    {
     "name": "stdout",
     "output_type": "stream",
     "text": [
      "# Categorical data\n"
     ]
    },
    {
     "data": {
      "text/html": [
       "<div>\n",
       "<style scoped>\n",
       "    .dataframe tbody tr th:only-of-type {\n",
       "        vertical-align: middle;\n",
       "    }\n",
       "\n",
       "    .dataframe tbody tr th {\n",
       "        vertical-align: top;\n",
       "    }\n",
       "\n",
       "    .dataframe thead th {\n",
       "        text-align: right;\n",
       "    }\n",
       "</style>\n",
       "<table border=\"1\" class=\"dataframe\">\n",
       "  <thead>\n",
       "    <tr style=\"text-align: right;\">\n",
       "      <th></th>\n",
       "      <th>address</th>\n",
       "      <th>district</th>\n",
       "      <th>postalCode</th>\n",
       "      <th>city</th>\n",
       "      <th>interior</th>\n",
       "      <th>link</th>\n",
       "      <th>offerSince</th>\n",
       "      <th>availabilityFrom</th>\n",
       "      <th>housingType</th>\n",
       "      <th>parkingAvailable</th>\n",
       "      <th>scrapingDate</th>\n",
       "      <th>status</th>\n",
       "      <th>country</th>\n",
       "      <th>offerUntil</th>\n",
       "    </tr>\n",
       "  </thead>\n",
       "  <tbody>\n",
       "    <tr>\n",
       "      <th>count</th>\n",
       "      <td>145723</td>\n",
       "      <td>145723</td>\n",
       "      <td>145723</td>\n",
       "      <td>145723</td>\n",
       "      <td>116189</td>\n",
       "      <td>145723</td>\n",
       "      <td>145504</td>\n",
       "      <td>145504</td>\n",
       "      <td>145504</td>\n",
       "      <td>145504</td>\n",
       "      <td>145723</td>\n",
       "      <td>145723</td>\n",
       "      <td>0</td>\n",
       "      <td>145723</td>\n",
       "    </tr>\n",
       "    <tr>\n",
       "      <th>unique</th>\n",
       "      <td>14146</td>\n",
       "      <td>5089</td>\n",
       "      <td>26448</td>\n",
       "      <td>1183</td>\n",
       "      <td>3</td>\n",
       "      <td>48983</td>\n",
       "      <td>378</td>\n",
       "      <td>458</td>\n",
       "      <td>4</td>\n",
       "      <td>2</td>\n",
       "      <td>360</td>\n",
       "      <td>1</td>\n",
       "      <td>0</td>\n",
       "      <td>358</td>\n",
       "    </tr>\n",
       "    <tr>\n",
       "      <th>top</th>\n",
       "      <td>Kerkstraat</td>\n",
       "      <td>Binnenstad</td>\n",
       "      <td>3811 HM</td>\n",
       "      <td>Amsterdam</td>\n",
       "      <td>Gestoffeerd</td>\n",
       "      <td>https://www.huurwoningen.nl/huren/zwijndrecht/...</td>\n",
       "      <td>2 weken</td>\n",
       "      <td>Per direct</td>\n",
       "      <td>Appartement</td>\n",
       "      <td>Nee</td>\n",
       "      <td>2022-11-20</td>\n",
       "      <td>Inactive</td>\n",
       "      <td>NaN</td>\n",
       "      <td>2022-11-30</td>\n",
       "    </tr>\n",
       "    <tr>\n",
       "      <th>freq</th>\n",
       "      <td>506</td>\n",
       "      <td>2985</td>\n",
       "      <td>386</td>\n",
       "      <td>17382</td>\n",
       "      <td>62172</td>\n",
       "      <td>29</td>\n",
       "      <td>33171</td>\n",
       "      <td>70577</td>\n",
       "      <td>107328</td>\n",
       "      <td>116083</td>\n",
       "      <td>2738</td>\n",
       "      <td>145723</td>\n",
       "      <td>NaN</td>\n",
       "      <td>1420</td>\n",
       "    </tr>\n",
       "  </tbody>\n",
       "</table>\n",
       "</div>"
      ],
      "text/plain": [
       "           address    district postalCode       city     interior   \n",
       "count       145723      145723     145723     145723       116189  \\\n",
       "unique       14146        5089      26448       1183            3   \n",
       "top     Kerkstraat  Binnenstad    3811 HM  Amsterdam  Gestoffeerd   \n",
       "freq           506        2985        386      17382        62172   \n",
       "\n",
       "                                                     link offerSince   \n",
       "count                                              145723     145504  \\\n",
       "unique                                              48983        378   \n",
       "top     https://www.huurwoningen.nl/huren/zwijndrecht/...    2 weken   \n",
       "freq                                                   29      33171   \n",
       "\n",
       "       availabilityFrom  housingType parkingAvailable scrapingDate    status   \n",
       "count            145504       145504           145504       145723    145723  \\\n",
       "unique              458            4                2          360         1   \n",
       "top          Per direct  Appartement              Nee   2022-11-20  Inactive   \n",
       "freq              70577       107328           116083         2738    145723   \n",
       "\n",
       "       country  offerUntil  \n",
       "count        0      145723  \n",
       "unique       0         358  \n",
       "top        NaN  2022-11-30  \n",
       "freq       NaN        1420  "
      ]
     },
     "execution_count": 39,
     "metadata": {},
     "output_type": "execute_result"
    }
   ],
   "source": [
    "print(\"# Categorical data\")\n",
    "data.describe(include=['string'])"
   ]
  },
  {
   "cell_type": "code",
   "execution_count": 197,
   "id": "220ef330-a3ad-4e64-8f20-af7dafc7d8a0",
   "metadata": {
    "tags": []
   },
   "outputs": [
    {
     "name": "stdout",
     "output_type": "stream",
     "text": [
      "# Interior categories\n"
     ]
    },
    {
     "data": {
      "text/plain": [
       "interior\n",
       "Gemeubileerd    13984\n",
       "Gestoffeerd     21014\n",
       "Kaal             4141\n",
       "dtype: int64"
      ]
     },
     "execution_count": 197,
     "metadata": {},
     "output_type": "execute_result"
    }
   ],
   "source": [
    "print(\"# Interior categories\")\n",
    "data.groupby('interior').nunique().max(axis=1)"
   ]
  },
  {
   "cell_type": "code",
   "execution_count": 199,
   "id": "1abd0da6-210c-4b6f-8c70-417f06dad4c3",
   "metadata": {
    "tags": []
   },
   "outputs": [
    {
     "name": "stdout",
     "output_type": "stream",
     "text": [
      "# Housing type categories\n"
     ]
    },
    {
     "data": {
      "text/plain": [
       "housingType\n",
       "Appartement    36081\n",
       "Huis            9351\n",
       "Kamer           2266\n",
       "Studio          1241\n",
       "dtype: int64"
      ]
     },
     "execution_count": 199,
     "metadata": {},
     "output_type": "execute_result"
    }
   ],
   "source": [
    "print(\"# Housing type categories\")\n",
    "data.groupby('housingType').nunique().max(axis=1)"
   ]
  },
  {
   "cell_type": "code",
   "execution_count": 200,
   "id": "35dc5577-62ca-4bfe-9af5-40daa1333ad4",
   "metadata": {
    "tags": []
   },
   "outputs": [
    {
     "name": "stdout",
     "output_type": "stream",
     "text": [
      "# Parking categories\n"
     ]
    },
    {
     "data": {
      "text/plain": [
       "parkingAvailable\n",
       "Ja      9872\n",
       "Nee    39164\n",
       "dtype: int64"
      ]
     },
     "execution_count": 200,
     "metadata": {},
     "output_type": "execute_result"
    }
   ],
   "source": [
    "print(\"# Parking categories\")\n",
    "data.groupby('parkingAvailable').nunique().max(axis=1)"
   ]
  },
  {
   "cell_type": "code",
   "execution_count": 201,
   "id": "7ccbe79a-2f04-46a1-9c02-10b825c55148",
   "metadata": {
    "tags": []
   },
   "outputs": [
    {
     "name": "stdout",
     "output_type": "stream",
     "text": [
      "# Status categories\n"
     ]
    },
    {
     "data": {
      "text/plain": [
       "status\n",
       "Inactive    48983\n",
       "dtype: int64"
      ]
     },
     "execution_count": 201,
     "metadata": {},
     "output_type": "execute_result"
    }
   ],
   "source": [
    "print(\"# Status categories\")\n",
    "data.groupby('status').nunique().max(axis=1)"
   ]
  },
  {
   "cell_type": "code",
   "execution_count": 194,
   "id": "d64a4ea7-3f2e-48e1-b45e-d47f3ebd4580",
   "metadata": {
    "tags": []
   },
   "outputs": [
    {
     "name": "stdout",
     "output_type": "stream",
     "text": [
      "[0, 175, 350]\n"
     ]
    },
    {
     "data": {
      "text/plain": [
       "<Axes: title={'center': 'Lineplot - Timeline Data Collection'}, xlabel='scrapingDate'>"
      ]
     },
     "execution_count": 194,
     "metadata": {},
     "output_type": "execute_result"
    },
    {
     "data": {
      "image/png": "[encoded data removed]",
      "text/plain": [
       "<Figure size 640x480 with 1 Axes>"
      ]
     },
     "metadata": {},
     "output_type": "display_data"
    }
   ],
   "source": [
    "plt.title('Lineplot - Timeline Data Collection', fontsize=16)\n",
    "\n",
    "timeline = data.groupby('scrapingDate').count().max(axis=1)\n",
    "plot = sns.lineplot(data=timeline, x=timeline.index, y=timeline, legend='brief')\n",
    "\n",
    "ticks = len(timeline)\n",
    "ticks = [tick for tick in range(ticks) if tick % 175 == 0]\n",
    "print(ticks)\n",
    "\n",
    "plot.set_xticks(ticks)\n",
    "plot"
   ]
  },
  {
   "cell_type": "markdown",
   "id": "89c21102-fae9-4d23-8c16-baf7e876de2e",
   "metadata": {
    "jp-MarkdownHeadingCollapsed": true,
    "tags": [],
    "user_expressions": []
   },
   "source": [
    "# Data Cleaning\n",
    "---\n"
   ]
  },
  {
   "cell_type": "code",
   "execution_count": 10,
   "id": "0625ea43-3bca-4804-8c1c-c48f9889f064",
   "metadata": {},
   "outputs": [],
   "source": [
    "df_rentals = data.copy()"
   ]
  },
  {
   "cell_type": "markdown",
   "id": "e0954542-be09-4e1f-8630-950851bdde5b",
   "metadata": {
    "tags": []
   },
   "source": [
    "## Clean\n",
    "\n"
   ]
  },
  {
   "cell_type": "code",
   "execution_count": null,
   "id": "f2249e3e-ad15-4a1b-8f21-85a00d97c7ce",
   "metadata": {},
   "outputs": [],
   "source": []
  },
  {
   "cell_type": "markdown",
   "id": "bc82de42-4920-4a21-bb60-6e33a8f625b6",
   "metadata": {},
   "source": [
    "## Transform\n",
    "\n"
   ]
  },
  {
   "cell_type": "code",
   "execution_count": null,
   "id": "41b0adc4-e05c-4c5c-9116-03c5464d0bdc",
   "metadata": {},
   "outputs": [],
   "source": [
    "timecols = ['Updated','Outdated']\n",
    "\n",
    "for col in timecols:\n",
    "    for i in range(len(df)):\n",
    "        try:\n",
    "            df[col][i].split(\" \")[1]\n",
    "            df.at[i, col] = pd.to_datetime(df[col][i].split(\" \")[0], format=\"%m-%d-%Y\")\n",
    "        except:\n",
    "            df.at[i, col] = pd.to_datetime(df[col][i], format=\"%Y-%m-%d\")\n",
    "    df[col] = pd.to_datetime(df[col], format=\"%Y-%m-%d\")\n",
    "\n",
    "df[\"DateDiff\"] = df[\"Outdated\"] - df[\"Updated\"]\n",
    "df[\"DateDiff\"] = df['DateDiff'] / np.timedelta64(1, 'D')\n",
    "\n",
    "df = df.drop(columns=['AangebodenSinds'])\n",
    "\n",
    "for i in range(len(df)):\n",
    "    try:\n",
    "        df['Beschikbaarheid'][i].split(\"Per \")\n",
    "        if df['Beschikbaarheid'][i].split(\"Per \")[1] == 'direct':\n",
    "            print(0)\n",
    "            df.at[i, 'Beschikbaarheid'] = 0\n",
    "        else:\n",
    "            date = pd.to_datetime(df['Beschikbaarheid'][i].split(\"Per \")[1], format=\"%d-%m-%Y\")\n",
    "            df.at[i, 'Beschikbaarheid'] = (date - df['Updated'][i]).days\n",
    "    except:\n",
    "        print(0)\n",
    "        df.at[i, 'Beschikbaarheid'] = 0\n",
    "df['Beschikbaarheid'] = df['Beschikbaarheid'].astype(\"int\")\n"
   ]
  },
  {
   "cell_type": "markdown",
   "id": "de0954d8-77fa-47b5-9c0f-a7a0322c0724",
   "metadata": {},
   "source": [
    "## Validate\n",
    "\n"
   ]
  },
  {
   "cell_type": "code",
   "execution_count": null,
   "id": "adaa6729-6ae0-4e37-a726-da565e09fbbe",
   "metadata": {},
   "outputs": [],
   "source": [
    "df.info()\n",
    "\n",
    "##Lists maken voor verschillende type kolommen\n",
    "df['Woningtype'] = df['Woningtype'].astype('category')\n",
    "\n",
    "num_columns = df.dtypes[df.dtypes != 'object'].index\n",
    "cat_columns = df.dtypes[df.dtypes == 'object'].index\n",
    "\n",
    "print('Numerieke kolommen: {}' .format(num_columns))\n",
    "print('Aantal numerieke kolommen: {}' .format(len(num_columns)))\n",
    "print()\n",
    "print('Categorische kolommen: {}' .format(cat_columns))\n",
    "print('Aantal categorische kolommen: {}' .format(len(cat_columns)))\n",
    "\n"
   ]
  },
  {
   "cell_type": "markdown",
   "id": "06f993bb-4797-4e97-b1e2-dc4a6aeb8932",
   "metadata": {
    "jp-MarkdownHeadingCollapsed": true,
    "tags": [],
    "user_expressions": []
   },
   "source": [
    "# Model Exploration\n",
    "---\n"
   ]
  },
  {
   "cell_type": "markdown",
   "id": "0772dc92-9755-4914-80ef-8c729708d6b2",
   "metadata": {
    "jp-MarkdownHeadingCollapsed": true,
    "tags": []
   },
   "source": [
    "## Techniques\n",
    "\n"
   ]
  },
  {
   "cell_type": "code",
   "execution_count": null,
   "id": "d36a2f6b-1a1c-41ec-95a8-a22e8551af98",
   "metadata": {},
   "outputs": [],
   "source": [
    "# XGBoost\n",
    "model = XGBRegressor(verbosity=0, maxdepth=3)\n",
    "model.fit(X_train, y_train)\n",
    "y_pred = model.predict(X_test)\n",
    "\n",
    "r2 = r2_score(y_test, y_pred)\n",
    "n = len(y_test)\n",
    "k = len(X_test.columns)\n",
    "\n",
    "#Uitrekenen Adj R2\n",
    "adj_r2_score = 1-(((1-r2)*(n-1))/(n-k-1))\n",
    "\n",
    "print(\"Mean Squared Error:\")\n",
    "print(mean_squared_error(y_test, y_pred))\n",
    "print()\n",
    "print(\"Root Mean Squared Error:\")\n",
    "print(mean_squared_error(y_test, y_pred, squared = False))\n",
    "print()\n",
    "print(\"Test R2-Score:\")\n",
    "print(r2_score(y_test, y_pred))\n",
    "print()\n",
    "print(\"Training R2-Score:\")\n",
    "y_train_pred = model.predict(X_train)\n",
    "print(r2_score(y_train, y_train_pred))\n",
    "print()\n",
    "print(\"Adjusted R2-Score:\")\n",
    "print(adj_r2_score)\n",
    "\n",
    "plt.scatter(y_test, y_pred)\n",
    "plt.xlabel(\"Predicted\")\n",
    "plt.ylabel(\"Actual\")\n",
    "plt.title('R2: ' + str(r2_score(y_test, y_pred)))\n",
    "plt.plot([y.min(),y.max()],[y.min(), y.max()],'k--',lw=4)\n",
    "\n",
    "explainer = shap.explainers.Tree(model)\n",
    "shap_values = explainer(X_test)\n",
    "# shap.summary_plot(shap_values, X_test, show=False)\n",
    "shap.summary_plot(shap_values, X_test, plot_type='violin')\n",
    "\n",
    "fig = plt.gcf()\n",
    "fig.set_figheight(12)\n",
    "fig.set_figwidth(10)\n",
    "plt.show()\n",
    "\n",
    "explainer = shap.explainers.Tree(model)\n",
    "shap_values = explainer(X_test)\n",
    "shap.summary_plot(shap_values, X_test, show=False)\n",
    "# shap.summary_plot(shap_values, X_test, plot_type='violin')\n",
    "\n",
    "fig = plt.gcf()\n",
    "fig.set_figheight(12)\n",
    "fig.set_figwidth(10)\n",
    "plt.show()"
   ]
  },
  {
   "cell_type": "code",
   "execution_count": null,
   "id": "8f6935d4-76e8-4bba-b21f-60a144b644ec",
   "metadata": {},
   "outputs": [],
   "source": []
  },
  {
   "cell_type": "markdown",
   "id": "849e3c0a-4aa0-4481-a5f1-5d7ca389c35c",
   "metadata": {
    "tags": []
   },
   "source": [
    "## Feature Selection\n",
    "\n"
   ]
  },
  {
   "cell_type": "code",
   "execution_count": null,
   "id": "620c823f-aa35-435e-a253-83557f21fecb",
   "metadata": {},
   "outputs": [],
   "source": [
    "X = df_scaled.loc[:, df_scaled.columns != voorspellen]\n",
    "y = df_scaled[voorspellen]\n",
    "for x in afhankelijk:\n",
    "    X = X.drop([x], axis = 1 )\n",
    "    \n",
    "X_train, X_test, y_train, y_test = train_test_split(X , y  , test_size = 0.20 , random_state = 0)\n",
    "\n",
    "X_train_sm = sm.add_constant(X_train)\n",
    "lr = sm.OLS(y_train, X_train_sm).fit()\n",
    "print(lr.summary())"
   ]
  },
  {
   "cell_type": "markdown",
   "id": "2ffe97b0-dcaf-4fe4-937b-ff928a591eef",
   "metadata": {
    "tags": []
   },
   "source": [
    "## Feature Transformation\n",
    "\n"
   ]
  },
  {
   "cell_type": "code",
   "execution_count": null,
   "id": "898a0983-916b-4c95-9f42-7f0bbfa4721e",
   "metadata": {},
   "outputs": [],
   "source": []
  },
  {
   "cell_type": "markdown",
   "id": "628bb57d-3268-4850-a9cd-36db7e25d91f",
   "metadata": {},
   "source": [
    "## Parameter Tuning\n",
    "\n"
   ]
  },
  {
   "cell_type": "code",
   "execution_count": null,
   "id": "851c578c-daee-4987-a503-7b1d235a3292",
   "metadata": {},
   "outputs": [],
   "source": []
  },
  {
   "cell_type": "markdown",
   "id": "3b0e9e8c-7281-4f6a-9bd4-a50f12517ffb",
   "metadata": {
    "jp-MarkdownHeadingCollapsed": true,
    "tags": [],
    "user_expressions": []
   },
   "source": [
    "# Model Training\n",
    "---\n"
   ]
  },
  {
   "cell_type": "code",
   "execution_count": null,
   "id": "d33f7281-05e4-4156-8480-bead6e2c04b3",
   "metadata": {},
   "outputs": [],
   "source": []
  },
  {
   "cell_type": "markdown",
   "id": "7f0ee12d-d976-4bae-a907-1134ddda4258",
   "metadata": {},
   "source": [
    "## Training\n",
    "\n"
   ]
  },
  {
   "cell_type": "code",
   "execution_count": null,
   "id": "fb6a021b-e5e9-4cde-9043-343373b9cdae",
   "metadata": {},
   "outputs": [],
   "source": []
  },
  {
   "cell_type": "markdown",
   "id": "51be0ab1-624b-4be2-abcc-f5349924adea",
   "metadata": {},
   "source": [
    "## Validation\n",
    "\n"
   ]
  },
  {
   "cell_type": "code",
   "execution_count": null,
   "id": "360a4c2e-a8bd-41ec-95df-244714eab412",
   "metadata": {},
   "outputs": [],
   "source": []
  },
  {
   "cell_type": "markdown",
   "id": "38804b7f-9522-430b-b177-9ab9cb378799",
   "metadata": {
    "jp-MarkdownHeadingCollapsed": true,
    "tags": [],
    "user_expressions": []
   },
   "source": [
    "# Model Evaluation\n",
    "---\n"
   ]
  },
  {
   "cell_type": "code",
   "execution_count": null,
   "id": "65bb649b-68c0-4777-b14b-11db24f557fb",
   "metadata": {},
   "outputs": [],
   "source": []
  },
  {
   "cell_type": "markdown",
   "id": "170c3d9b-7dc8-497a-a27e-b4565e5d1317",
   "metadata": {},
   "source": [
    "## Testing\n",
    "\n"
   ]
  },
  {
   "cell_type": "code",
   "execution_count": null,
   "id": "45629914-9047-4ba3-9dd2-8496952f5ad3",
   "metadata": {},
   "outputs": [],
   "source": []
  },
  {
   "cell_type": "markdown",
   "id": "0ffafc2e-077d-4b16-b17c-646dfb019b17",
   "metadata": {},
   "source": [
    "## Analysis\n",
    "\n"
   ]
  },
  {
   "cell_type": "code",
   "execution_count": null,
   "id": "dd6cedd6-0034-457d-be76-bb44c9340910",
   "metadata": {},
   "outputs": [],
   "source": []
  },
  {
   "cell_type": "markdown",
   "id": "76102c1e-b322-4ac3-a105-18aae9d64c5a",
   "metadata": {},
   "source": [
    "## Deployment\n",
    "\n"
   ]
  },
  {
   "cell_type": "code",
   "execution_count": null,
   "id": "a3cb13af-5206-446d-bb57-6d15a5883da7",
   "metadata": {},
   "outputs": [],
   "source": []
  }
 ],
 "metadata": {
  "kernelspec": {
   "display_name": "Python 3 (ipykernel)",
   "language": "python",
   "name": "python3"
  },
  "language_info": {
   "codemirror_mode": {
    "name": "ipython",
    "version": 3
   },
   "file_extension": ".py",
   "mimetype": "text/x-python",
   "name": "python",
   "nbconvert_exporter": "python",
   "pygments_lexer": "ipython3",
   "version": "3.10.10"
  }
 },
 "nbformat": 4,
 "nbformat_minor": 5
}
